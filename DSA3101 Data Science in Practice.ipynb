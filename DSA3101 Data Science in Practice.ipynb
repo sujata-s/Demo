{
    "metadata": {
        "language_info": {
            "name": "R", 
            "version": "3.3.2", 
            "mimetype": "text/x-r-source", 
            "codemirror_mode": "r", 
            "file_extension": ".r", 
            "pygments_lexer": "r"
        }, 
        "kernelspec": {
            "language": "R", 
            "name": "r-spark20", 
            "display_name": "R with Spark 2.0"
        }
    }, 
    "nbformat_minor": 0, 
    "cells": [
        {
            "metadata": {
                "collapsed": true
            }, 
            "cell_type": "raw", 
            "source": "This module is designed to be a continuation of DSA1101 Introduction to Data Science. It focuses on\ndata science methodology and the ability to apply such methodology to practical applications. Real\u2010\nworld problems will be provided by both industrial and academic partners in domains such as\ntransportation, consulting, finance, pharmaceutics, life sciences and physics"
        }
    ], 
    "nbformat": 4
}