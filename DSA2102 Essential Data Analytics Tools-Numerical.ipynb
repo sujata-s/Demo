{
    "metadata": {
        "language_info": {
            "name": "R", 
            "version": "3.3.2", 
            "mimetype": "text/x-r-source", 
            "codemirror_mode": "r", 
            "file_extension": ".r", 
            "pygments_lexer": "r"
        }, 
        "kernelspec": {
            "language": "R", 
            "name": "r-spark20", 
            "display_name": "R with Spark 2.0"
        }
    }, 
    "nbformat_minor": 0, 
    "cells": [
        {
            "metadata": {
                "collapsed": true
            }, 
            "cell_type": "raw", 
            "source": "This module aims at introducing basic concepts and well\u2010established numerical methodsthat are very\nrelated to of the computing foundation of data science and analytics. The emphasis is on the tight\nintegration of numerical algorithms, implementation in industrial programming language, and\nexamination on practical examples drawn from various disciplines related to data science. Major\ntopics include: computer arithmetic, matrix multiplication, numerical methods for solving linear\nsystems, least squares method, interpolation, concrete implementations in industrial program\nlanguage, and sample applications related to data science."
        }
    ], 
    "nbformat": 4
}