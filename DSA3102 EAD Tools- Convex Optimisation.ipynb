{
    "metadata": {
        "language_info": {
            "name": "R", 
            "version": "3.3.2", 
            "mimetype": "text/x-r-source", 
            "codemirror_mode": "r", 
            "file_extension": ".r", 
            "pygments_lexer": "r"
        }, 
        "kernelspec": {
            "language": "R", 
            "name": "r-spark20", 
            "display_name": "R with Spark 2.0"
        }
    }, 
    "nbformat_minor": 0, 
    "cells": [
        {
            "metadata": {
                "collapsed": true
            }, 
            "cell_type": "markdown", 
            "source": "Convex optimisation is an indispensable technique in dealing with high\u2010dimensional structured\nproblems in data science. The module covers modelling examples; basic concepts for convex\nfunctions and sub\u2010gradients; gradient and sub\u2010gradient methods; accelerated proximal gradient\nmethods; stochastic block coordinate descent methods; Lagrangian duals; splitting algorithms and\nimplementations"
        }
    ], 
    "nbformat": 4
}